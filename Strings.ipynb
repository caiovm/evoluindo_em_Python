{
  "nbformat": 4,
  "nbformat_minor": 0,
  "metadata": {
    "colab": {
      "name": "Strings.ipynb",
      "provenance": [],
      "collapsed_sections": [],
      "authorship_tag": "ABX9TyMfVLL+kwqw7YoOsCEyCCFt",
      "include_colab_link": true
    },
    "kernelspec": {
      "name": "python3",
      "display_name": "Python 3"
    },
    "language_info": {
      "name": "python"
    }
  },
  "cells": [
    {
      "cell_type": "markdown",
      "metadata": {
        "id": "view-in-github",
        "colab_type": "text"
      },
      "source": [
        "<a href=\"https://colab.research.google.com/github/caiovm/evoluindo_em_Python/blob/main/Strings.ipynb\" target=\"_parent\"><img src=\"https://colab.research.google.com/assets/colab-badge.svg\" alt=\"Open In Colab\"/></a>"
      ]
    },
    {
      "cell_type": "markdown",
      "source": [
        "#WikiPython\n",
        "2) Faça um programa que permita ao usuário digitar o seu nome e em seguida mostre o nome do usuário de trás para frente utilizando somente letras maiúsculas. Dica: lembre−se que ao informar o nome o usuário pode digitar letras maiúsculas ou minúsculas"
      ],
      "metadata": {
        "id": "VcS8ZolWTf7n"
      }
    },
    {
      "cell_type": "code",
      "execution_count": null,
      "metadata": {
        "id": "m7JwC-wBTNoa"
      },
      "outputs": [],
      "source": [
        "nome = input('Informe o seu nome: ')\n",
        "nome = nome.upper()\n",
        "print ('O seu nome escrito ao contrário é {}.'.format(nome[::-1]))"
      ]
    },
    {
      "cell_type": "markdown",
      "source": [
        "#WikiPython\n",
        "3)Faça um programa que solicite o nome do usuário e imprima-o na vertical"
      ],
      "metadata": {
        "id": "PsI81ZHjUiB8"
      }
    },
    {
      "cell_type": "code",
      "source": [
        "nome = input('Informe o seu nome: ')\n",
        "for i in range (len(nome)):\n",
        "  print (nome[i])"
      ],
      "metadata": {
        "id": "PKjjx3bpUl6c"
      },
      "execution_count": null,
      "outputs": []
    },
    {
      "cell_type": "markdown",
      "source": [
        "#WikiPython\n",
        "4) Modifique o programa anterior de forma a mostrar o nome em formato de escada."
      ],
      "metadata": {
        "id": "lWDoVdGjU6EK"
      }
    },
    {
      "cell_type": "code",
      "source": [
        "nome = input('Informe o seu nome: ')\n",
        "for i in range (len(nome)):\n",
        "  print (nome[:i+1])"
      ],
      "metadata": {
        "id": "UBRBY1c-U-C1"
      },
      "execution_count": null,
      "outputs": []
    },
    {
      "cell_type": "markdown",
      "source": [
        "#WikiPython\n",
        "5) Altere o programa anterior de modo que a escada seja invertida."
      ],
      "metadata": {
        "id": "QzzAo-VZVqBO"
      }
    },
    {
      "cell_type": "code",
      "source": [
        "nome = input('Informe o seu nome: ')\n",
        "for i in range (len(nome), -1, -1):\n",
        "  print (nome[:i])"
      ],
      "metadata": {
        "id": "KAgPu6c4VtUf"
      },
      "execution_count": null,
      "outputs": []
    },
    {
      "cell_type": "markdown",
      "source": [
        "#WikiPython\n",
        "\n",
        "6) Faça um programa que solicite a data de nascimento (dd/mm/aaaa) do usuário e imprima a data com o nome do mês por extenso."
      ],
      "metadata": {
        "id": "di1NtOQK_-8u"
      }
    },
    {
      "cell_type": "code",
      "source": [
        "dia = input('Informe o dia (dd) do seu nascimento: ')\n",
        "mes = input('Informe o mês (mm) do seu nascimento: ')\n",
        "ano = input('Informe o ano (aaaa) do seu nascimento: ')\n",
        "if dia and mes and ano:\n",
        "  meses = {\n",
        "    '01' : 'janeiro',\n",
        "    '02' : 'fevereiro',\n",
        "    '03' : 'março',\n",
        "    '04' : 'abril',\n",
        "    '05' : 'maio',\n",
        "    '06' : 'junho',\n",
        "    '07' : 'julho',\n",
        "    '08' : 'agosto',\n",
        "    '09' : 'setembro',\n",
        "    '10' : 'outubro',\n",
        "    '11' : 'novembro',\n",
        "    '12' : 'dezembro'\n",
        "    }\n",
        "  mes_nascimento = meses[mes]\n",
        "  print ('Você nasceu em {} de {} de {}'.format(dia, mes_nascimento, ano))\n",
        "else:\n",
        "  print('Algum(ns) dos valores digitados não está(ão) correto(s).')"
      ],
      "metadata": {
        "id": "x5hpbqNv_9vF"
      },
      "execution_count": null,
      "outputs": []
    },
    {
      "cell_type": "markdown",
      "source": [
        "#WikiPyton\n",
        "\n",
        "7) Dado uma string com uma frase informada pelo usuário (incluindo espaços em branco), conte:\n",
        "\n",
        "* quantos espaços em branco existem na frase.\n",
        "* quantas vezes aparecem as vogais a, e, i, o, u"
      ],
      "metadata": {
        "id": "PofuGyYUSGx1"
      }
    },
    {
      "cell_type": "code",
      "source": [
        "frase = str(input('Digite uma frase para que eu possa analisar a quantidade de vogais e espaços em branco: '))\n",
        "espaco = frase.count(' ')\n",
        "a = frase.count('a')\n",
        "e = frase.count('e')\n",
        "i = frase.count('i')\n",
        "o = frase.count('o')\n",
        "u = frase.count('u')\n",
        "print ('Você digitou a seguinte frase: {}'.format(frase))\n",
        "print ('Sua frase possui {} espaços em brano, {} vogais \"a\", {} vogais \"e\", {} vogais \"i\", {} vogais \"o\" e {} vogais \"u\".'.format(espaco, a, e, i, o, u))"
      ],
      "metadata": {
        "id": "WvlcmlDKT28H"
      },
      "execution_count": null,
      "outputs": []
    },
    {
      "cell_type": "markdown",
      "source": [
        "#WikiPyton\n",
        "8) Um palíndromo é uma seqüência de caracteres cuja leitura é idêntica se feita da direita para esquerda ou vice−versa. Por exemplo: OSSO e OVO são palíndromos. Em textos mais complexos os espaços e pontuação são ignorados. A frase SUBI NO ONIBUS é o exemplo de uma frase palíndroma onde os espaços foram ignorados. Faça um programa que leia uma seqüência de caracteres, mostre−a e diga se é um palíndromo ou não."
      ],
      "metadata": {
        "id": "0y_bdm6YoSqp"
      }
    },
    {
      "cell_type": "code",
      "source": [
        "frase = str(input('Digite uma frase para verificar se é ou não palíndromo: '))\n",
        "frase = frase.replace(' ','')\n",
        "frase = frase.replace(',','')\n",
        "frase = frase.replace('.','')\n",
        "frase = frase.casefold()\n",
        "frase2 = frase[::-1]\n",
        "if frase == frase2:\n",
        "  print ('As palavras/frases são palindromo!')\n",
        "else:\n",
        "  print('As plavras/frases não são palíndromos!')"
      ],
      "metadata": {
        "id": "bCm9DhUIoXnd"
      },
      "execution_count": null,
      "outputs": []
    },
    {
      "cell_type": "markdown",
      "source": [
        "# WikiPyton\n",
        "9) Escreva um programa que solicite ao usuário a digitação de um número até 99 e imprima-o na tela por extenso."
      ],
      "metadata": {
        "id": "UHSDxMTYwkc8"
      }
    },
    {
      "cell_type": "code",
      "source": [
        "menor_20 = ['um', 'dois', 'três', 'quatro', 'cinco', 'seis', 'sete', 'oito', 'nove', 'dez', 'onze', 'doze', 'treze', 'quatorze', 'quinze', 'dezesseis', 'dezessete', 'dezoito', 'dezenove']\n",
        "dezenas = ['vinte', 'trinta', 'quarenta', 'cinquenta', 'sessenta', 'setenta', 'oitenta', 'noventa']\n",
        "num = str(input('Informe um valor inteiro entre 1 e 99: '))\n",
        "num = int(num)\n",
        "if (num > 0) and (num < 100):\n",
        "  if num < 20:\n",
        "    print (menor_20 [num-1])\n",
        "  else:\n",
        "    num = str(num)\n",
        "    first = int(num[0])\n",
        "    second = int(num[1])\n",
        "    if second == 0:\n",
        "      first = int(num[1])\n",
        "      print ('{}'.format(dezenas[first-2]))\n",
        "    else:\n",
        "      print ('{} e {}'.format(dezenas[first-2], menor_20[second-1]))\n",
        "else:\n",
        "  print ('Você digitou um valor inválido. Tente digitar um valor inteiro entre 1 e 99: ')"
      ],
      "metadata": {
        "colab": {
          "base_uri": "https://localhost:8080/"
        },
        "id": "QwCriHTlwryI",
        "outputId": "71f41872-c347-4846-83ba-8d33bd78e884"
      },
      "execution_count": null,
      "outputs": [
        {
          "output_type": "stream",
          "name": "stdout",
          "text": [
            "Informe um valor inteiro entre 1 e 99: 73\n",
            "setenta e três\n"
          ]
        }
      ]
    }
  ]
}