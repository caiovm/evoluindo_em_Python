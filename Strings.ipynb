{
  "nbformat": 4,
  "nbformat_minor": 0,
  "metadata": {
    "colab": {
      "name": "Strings.ipynb",
      "provenance": [],
      "collapsed_sections": [],
      "authorship_tag": "ABX9TyPlq8IRtjk6mnqH+eQaUCZT",
      "include_colab_link": true
    },
    "kernelspec": {
      "name": "python3",
      "display_name": "Python 3"
    },
    "language_info": {
      "name": "python"
    }
  },
  "cells": [
    {
      "cell_type": "markdown",
      "metadata": {
        "id": "view-in-github",
        "colab_type": "text"
      },
      "source": [
        "<a href=\"https://colab.research.google.com/github/caiovm/evoluindo_em_Python/blob/main/Strings.ipynb\" target=\"_parent\"><img src=\"https://colab.research.google.com/assets/colab-badge.svg\" alt=\"Open In Colab\"/></a>"
      ]
    },
    {
      "cell_type": "markdown",
      "source": [
        "#WikiPython\n",
        "2) Faça um programa que permita ao usuário digitar o seu nome e em seguida mostre o nome do usuário de trás para frente utilizando somente letras maiúsculas. Dica: lembre−se que ao informar o nome o usuário pode digitar letras maiúsculas ou minúsculas"
      ],
      "metadata": {
        "id": "VcS8ZolWTf7n"
      }
    },
    {
      "cell_type": "code",
      "execution_count": null,
      "metadata": {
        "id": "m7JwC-wBTNoa"
      },
      "outputs": [],
      "source": [
        "nome = input('Informe o seu nome: ')\n",
        "nome = nome.upper()\n",
        "print ('O seu nome escrito ao contrário é {}.'.format(nome[::-1]))"
      ]
    },
    {
      "cell_type": "markdown",
      "source": [
        "#WikiPython\n",
        "3)Faça um programa que solicite o nome do usuário e imprima-o na vertical"
      ],
      "metadata": {
        "id": "PsI81ZHjUiB8"
      }
    },
    {
      "cell_type": "code",
      "source": [
        "nome = input('Informe o seu nome: ')\n",
        "for i in range (len(nome)):\n",
        "  print (nome[i])"
      ],
      "metadata": {
        "id": "PKjjx3bpUl6c"
      },
      "execution_count": null,
      "outputs": []
    },
    {
      "cell_type": "markdown",
      "source": [
        "#WikiPython\n",
        "4) Modifique o programa anterior de forma a mostrar o nome em formato de escada."
      ],
      "metadata": {
        "id": "lWDoVdGjU6EK"
      }
    },
    {
      "cell_type": "code",
      "source": [
        "nome = input('Informe o seu nome: ')\n",
        "for i in range (len(nome)):\n",
        "  print (nome[:i+1])"
      ],
      "metadata": {
        "id": "UBRBY1c-U-C1"
      },
      "execution_count": null,
      "outputs": []
    },
    {
      "cell_type": "markdown",
      "source": [
        "#WikiPython\n",
        "5) Altere o programa anterior de modo que a escada seja invertida."
      ],
      "metadata": {
        "id": "QzzAo-VZVqBO"
      }
    },
    {
      "cell_type": "code",
      "source": [
        "nome = input('Informe o seu nome: ')\n",
        "for i in range (len(nome), -1, -1):\n",
        "  print (nome[:i])"
      ],
      "metadata": {
        "id": "KAgPu6c4VtUf"
      },
      "execution_count": null,
      "outputs": []
    },
    {
      "cell_type": "markdown",
      "source": [
        "#WikiPython\n",
        "\n",
        "6) Faça um programa que solicite a data de nascimento (dd/mm/aaaa) do usuário e imprima a data com o nome do mês por extenso."
      ],
      "metadata": {
        "id": "di1NtOQK_-8u"
      }
    },
    {
      "cell_type": "code",
      "source": [
        "dia = input('Informe o dia (dd) do seu nascimento: ')\n",
        "mes = input('Informe o mês (mm) do seu nascimento: ')\n",
        "ano = input('Informe o ano (aaaa) do seu nascimento: ')\n",
        "if dia and mes and ano:\n",
        "  meses = {\n",
        "    '01' : 'janeiro',\n",
        "    '02' : 'fevereiro',\n",
        "    '03' : 'março',\n",
        "    '04' : 'abril',\n",
        "    '05' : 'maio',\n",
        "    '06' : 'junho',\n",
        "    '07' : 'julho',\n",
        "    '08' : 'agosto',\n",
        "    '09' : 'setembro',\n",
        "    '10' : 'outubro',\n",
        "    '11' : 'novembro',\n",
        "    '12' : 'dezembro'\n",
        "    }\n",
        "  mes_nascimento = meses[mes]\n",
        "  print ('Você nasceu em {} de {} de {}'.format(dia, mes_nascimento, ano))\n",
        "else:\n",
        "  print('Algum(ns) dos valores digitados não está(ão) correto(s).')"
      ],
      "metadata": {
        "id": "x5hpbqNv_9vF"
      },
      "execution_count": null,
      "outputs": []
    },
    {
      "cell_type": "markdown",
      "source": [
        "#WikiPyton\n",
        "\n",
        "7) Dado uma string com uma frase informada pelo usuário (incluindo espaços em branco), conte:\n",
        "\n",
        "* quantos espaços em branco existem na frase.\n",
        "* quantas vezes aparecem as vogais a, e, i, o, u"
      ],
      "metadata": {
        "id": "PofuGyYUSGx1"
      }
    },
    {
      "cell_type": "code",
      "source": [
        "frase = str(input('Digite uma frase para que eu possa analisar a quantidade de vogais e espaços em branco: '))\n",
        "espaco = frase.count(' ')\n",
        "a = frase.count('a')\n",
        "e = frase.count('e')\n",
        "i = frase.count('i')\n",
        "o = frase.count('o')\n",
        "u = frase.count('u')\n",
        "print ('Você digitou a seguinte frase: {}'.format(frase))\n",
        "print ('Sua frase possui {} espaços em brano, {} vogais \"a\", {} vogais \"e\", {} vogais \"i\", {} vogais \"o\" e {} vogais \"u\".'.format(espaco, a, e, i, o, u))"
      ],
      "metadata": {
        "id": "WvlcmlDKT28H"
      },
      "execution_count": null,
      "outputs": []
    },
    {
      "cell_type": "markdown",
      "source": [
        "#WikiPyton\n",
        "8) Um palíndromo é uma seqüência de caracteres cuja leitura é idêntica se feita da direita para esquerda ou vice−versa. Por exemplo: OSSO e OVO são palíndromos. Em textos mais complexos os espaços e pontuação são ignorados. A frase SUBI NO ONIBUS é o exemplo de uma frase palíndroma onde os espaços foram ignorados. Faça um programa que leia uma seqüência de caracteres, mostre−a e diga se é um palíndromo ou não."
      ],
      "metadata": {
        "id": "0y_bdm6YoSqp"
      }
    },
    {
      "cell_type": "code",
      "source": [
        "frase = str(input('Digite uma frase para verificar se é ou não palíndromo: '))\n",
        "frase = frase.replace(' ','')\n",
        "frase = frase.replace(',','')\n",
        "frase = frase.replace('.','')\n",
        "frase = frase.casefold()\n",
        "frase2 = frase[::-1]\n",
        "if frase == frase2:\n",
        "  print ('As palavras/frases são palindromo!')\n",
        "else:\n",
        "  print('As plavras/frases não são palíndromos!')"
      ],
      "metadata": {
        "id": "bCm9DhUIoXnd"
      },
      "execution_count": null,
      "outputs": []
    },
    {
      "cell_type": "markdown",
      "source": [
        "# WikiPyton\n",
        "9) Escreva um programa que solicite ao usuário a digitação de um número até 99 e imprima-o na tela por extenso."
      ],
      "metadata": {
        "id": "UHSDxMTYwkc8"
      }
    },
    {
      "cell_type": "code",
      "source": [
        "menor_20 = ['um', 'dois', 'três', 'quatro', 'cinco', 'seis', 'sete', 'oito', 'nove', 'dez', 'onze', 'doze', 'treze', 'quatorze', 'quinze', 'dezesseis', 'dezessete', 'dezoito', 'dezenove']\n",
        "dezenas = ['vinte', 'trinta', 'quarenta', 'cinquenta', 'sessenta', 'setenta', 'oitenta', 'noventa']\n",
        "num = str(input('Informe um valor inteiro entre 1 e 99: '))\n",
        "num = int(num)\n",
        "if (num > 0) and (num < 100):\n",
        "  if num < 20:\n",
        "    print (menor_20 [num-1])\n",
        "  else:\n",
        "    num = str(num)\n",
        "    first = int(num[0])\n",
        "    second = int(num[1])\n",
        "    if second == 0:\n",
        "      first = int(num[1])\n",
        "      print ('{}'.format(dezenas[first-2]))\n",
        "    else:\n",
        "      print ('{} e {}'.format(dezenas[first-2], menor_20[second-1]))\n",
        "else:\n",
        "  print ('Você digitou um valor inválido. Tente digitar um valor inteiro entre 1 e 99: ')"
      ],
      "metadata": {
        "colab": {
          "base_uri": "https://localhost:8080/"
        },
        "id": "QwCriHTlwryI",
        "outputId": "71f41872-c347-4846-83ba-8d33bd78e884"
      },
      "execution_count": null,
      "outputs": [
        {
          "output_type": "stream",
          "name": "stdout",
          "text": [
            "Informe um valor inteiro entre 1 e 99: 73\n",
            "setenta e três\n"
          ]
        }
      ]
    },
    {
      "cell_type": "markdown",
      "source": [
        "# WikiPyton\n",
        "10) Desenvolva um jogo da forca. O programa terá uma lista de palavras lidas de um arquivo texto e escolherá uma aleatoriamente. O jogador poderá errar 6 vezes antes de ser enforcado."
      ],
      "metadata": {
        "id": "axyU3TxwDavX"
      }
    },
    {
      "cell_type": "code",
      "source": [
        "#Aqui criei uma lista ao invés de buscar um arquivo apenas para testar o código.\n",
        "\n",
        "import random\n",
        "lista = ['strogonoff', 'lasanha', 'parmegiana', 'espaguete', 'sopa', 'sushi', 'hamburguer', 'moqueca']\n",
        "x = random.randrange(0,8)\n",
        "print ('Dica: É UMA COMIDA!')\n",
        "print ()\n",
        "print ()\n",
        "chance = 6\n",
        "for i in range(chance):\n",
        "  palavra = lista[x]\n",
        "  print ('_ '*(len(palavra)))\n",
        "  print ()\n",
        "  letra = str(input('Digite a sua primeira sugestão de letra: '))"
      ],
      "metadata": {
        "colab": {
          "base_uri": "https://localhost:8080/",
          "height": 780
        },
        "id": "jJaGV95XDg56",
        "outputId": "ba1e9b84-3497-4622-b7a8-5dd62cf3edf2"
      },
      "execution_count": null,
      "outputs": [
        {
          "output_type": "stream",
          "name": "stdout",
          "text": [
            "Dica: É UMA COMIDA!\n",
            "\n",
            "\n",
            "_ _ _ _ _ _ _ _ _ _ \n",
            "\n",
            "Digite a sua primeira sugestão de letra: a\n",
            "_ _ _ _ _ _ _ _ _ _ \n",
            "\n",
            "Digite a sua primeira sugestão de letra: p\n",
            "_ _ _ _ _ _ _ _ _ _ \n",
            "\n",
            "Digite a sua primeira sugestão de letra: h\n",
            "_ _ _ _ _ _ _ _ _ _ \n",
            "\n"
          ]
        },
        {
          "output_type": "error",
          "ename": "KeyboardInterrupt",
          "evalue": "ignored",
          "traceback": [
            "\u001b[0;31m---------------------------------------------------------------------------\u001b[0m",
            "\u001b[0;31mKeyboardInterrupt\u001b[0m                         Traceback (most recent call last)",
            "\u001b[0;32m/usr/local/lib/python3.7/dist-packages/ipykernel/kernelbase.py\u001b[0m in \u001b[0;36m_input_request\u001b[0;34m(self, prompt, ident, parent, password)\u001b[0m\n\u001b[1;32m    728\u001b[0m             \u001b[0;32mtry\u001b[0m\u001b[0;34m:\u001b[0m\u001b[0;34m\u001b[0m\u001b[0;34m\u001b[0m\u001b[0m\n\u001b[0;32m--> 729\u001b[0;31m                 \u001b[0mident\u001b[0m\u001b[0;34m,\u001b[0m \u001b[0mreply\u001b[0m \u001b[0;34m=\u001b[0m \u001b[0mself\u001b[0m\u001b[0;34m.\u001b[0m\u001b[0msession\u001b[0m\u001b[0;34m.\u001b[0m\u001b[0mrecv\u001b[0m\u001b[0;34m(\u001b[0m\u001b[0mself\u001b[0m\u001b[0;34m.\u001b[0m\u001b[0mstdin_socket\u001b[0m\u001b[0;34m,\u001b[0m \u001b[0;36m0\u001b[0m\u001b[0;34m)\u001b[0m\u001b[0;34m\u001b[0m\u001b[0;34m\u001b[0m\u001b[0m\n\u001b[0m\u001b[1;32m    730\u001b[0m             \u001b[0;32mexcept\u001b[0m \u001b[0mException\u001b[0m\u001b[0;34m:\u001b[0m\u001b[0;34m\u001b[0m\u001b[0;34m\u001b[0m\u001b[0m\n",
            "\u001b[0;32m/usr/local/lib/python3.7/dist-packages/jupyter_client/session.py\u001b[0m in \u001b[0;36mrecv\u001b[0;34m(self, socket, mode, content, copy)\u001b[0m\n\u001b[1;32m    802\u001b[0m         \u001b[0;32mtry\u001b[0m\u001b[0;34m:\u001b[0m\u001b[0;34m\u001b[0m\u001b[0;34m\u001b[0m\u001b[0m\n\u001b[0;32m--> 803\u001b[0;31m             \u001b[0mmsg_list\u001b[0m \u001b[0;34m=\u001b[0m \u001b[0msocket\u001b[0m\u001b[0;34m.\u001b[0m\u001b[0mrecv_multipart\u001b[0m\u001b[0;34m(\u001b[0m\u001b[0mmode\u001b[0m\u001b[0;34m,\u001b[0m \u001b[0mcopy\u001b[0m\u001b[0;34m=\u001b[0m\u001b[0mcopy\u001b[0m\u001b[0;34m)\u001b[0m\u001b[0;34m\u001b[0m\u001b[0;34m\u001b[0m\u001b[0m\n\u001b[0m\u001b[1;32m    804\u001b[0m         \u001b[0;32mexcept\u001b[0m \u001b[0mzmq\u001b[0m\u001b[0;34m.\u001b[0m\u001b[0mZMQError\u001b[0m \u001b[0;32mas\u001b[0m \u001b[0me\u001b[0m\u001b[0;34m:\u001b[0m\u001b[0;34m\u001b[0m\u001b[0;34m\u001b[0m\u001b[0m\n",
            "\u001b[0;32m/usr/local/lib/python3.7/dist-packages/zmq/sugar/socket.py\u001b[0m in \u001b[0;36mrecv_multipart\u001b[0;34m(self, flags, copy, track)\u001b[0m\n\u001b[1;32m    624\u001b[0m         \"\"\"\n\u001b[0;32m--> 625\u001b[0;31m         \u001b[0mparts\u001b[0m \u001b[0;34m=\u001b[0m \u001b[0;34m[\u001b[0m\u001b[0mself\u001b[0m\u001b[0;34m.\u001b[0m\u001b[0mrecv\u001b[0m\u001b[0;34m(\u001b[0m\u001b[0mflags\u001b[0m\u001b[0;34m,\u001b[0m \u001b[0mcopy\u001b[0m\u001b[0;34m=\u001b[0m\u001b[0mcopy\u001b[0m\u001b[0;34m,\u001b[0m \u001b[0mtrack\u001b[0m\u001b[0;34m=\u001b[0m\u001b[0mtrack\u001b[0m\u001b[0;34m)\u001b[0m\u001b[0;34m]\u001b[0m\u001b[0;34m\u001b[0m\u001b[0;34m\u001b[0m\u001b[0m\n\u001b[0m\u001b[1;32m    626\u001b[0m         \u001b[0;31m# have first part already, only loop while more to receive\u001b[0m\u001b[0;34m\u001b[0m\u001b[0;34m\u001b[0m\u001b[0;34m\u001b[0m\u001b[0m\n",
            "\u001b[0;32mzmq/backend/cython/socket.pyx\u001b[0m in \u001b[0;36mzmq.backend.cython.socket.Socket.recv\u001b[0;34m()\u001b[0m\n",
            "\u001b[0;32mzmq/backend/cython/socket.pyx\u001b[0m in \u001b[0;36mzmq.backend.cython.socket.Socket.recv\u001b[0;34m()\u001b[0m\n",
            "\u001b[0;32mzmq/backend/cython/socket.pyx\u001b[0m in \u001b[0;36mzmq.backend.cython.socket._recv_copy\u001b[0;34m()\u001b[0m\n",
            "\u001b[0;32m/usr/local/lib/python3.7/dist-packages/zmq/backend/cython/checkrc.pxd\u001b[0m in \u001b[0;36mzmq.backend.cython.checkrc._check_rc\u001b[0;34m()\u001b[0m\n",
            "\u001b[0;31mKeyboardInterrupt\u001b[0m: ",
            "\nDuring handling of the above exception, another exception occurred:\n",
            "\u001b[0;31mKeyboardInterrupt\u001b[0m                         Traceback (most recent call last)",
            "\u001b[0;32m<ipython-input-153-fedc52e02449>\u001b[0m in \u001b[0;36m<module>\u001b[0;34m()\u001b[0m\n\u001b[1;32m     10\u001b[0m   \u001b[0mprint\u001b[0m \u001b[0;34m(\u001b[0m\u001b[0;34m'_ '\u001b[0m\u001b[0;34m*\u001b[0m\u001b[0;34m(\u001b[0m\u001b[0mlen\u001b[0m\u001b[0;34m(\u001b[0m\u001b[0mpalavra\u001b[0m\u001b[0;34m)\u001b[0m\u001b[0;34m)\u001b[0m\u001b[0;34m)\u001b[0m\u001b[0;34m\u001b[0m\u001b[0;34m\u001b[0m\u001b[0m\n\u001b[1;32m     11\u001b[0m   \u001b[0mprint\u001b[0m \u001b[0;34m(\u001b[0m\u001b[0;34m)\u001b[0m\u001b[0;34m\u001b[0m\u001b[0;34m\u001b[0m\u001b[0m\n\u001b[0;32m---> 12\u001b[0;31m   \u001b[0mletra\u001b[0m \u001b[0;34m=\u001b[0m \u001b[0mstr\u001b[0m\u001b[0;34m(\u001b[0m\u001b[0minput\u001b[0m\u001b[0;34m(\u001b[0m\u001b[0;34m'Digite a sua primeira sugestão de letra: '\u001b[0m\u001b[0;34m)\u001b[0m\u001b[0;34m)\u001b[0m\u001b[0;34m\u001b[0m\u001b[0;34m\u001b[0m\u001b[0m\n\u001b[0m",
            "\u001b[0;32m/usr/local/lib/python3.7/dist-packages/ipykernel/kernelbase.py\u001b[0m in \u001b[0;36mraw_input\u001b[0;34m(self, prompt)\u001b[0m\n\u001b[1;32m    702\u001b[0m             \u001b[0mself\u001b[0m\u001b[0;34m.\u001b[0m\u001b[0m_parent_ident\u001b[0m\u001b[0;34m,\u001b[0m\u001b[0;34m\u001b[0m\u001b[0;34m\u001b[0m\u001b[0m\n\u001b[1;32m    703\u001b[0m             \u001b[0mself\u001b[0m\u001b[0;34m.\u001b[0m\u001b[0m_parent_header\u001b[0m\u001b[0;34m,\u001b[0m\u001b[0;34m\u001b[0m\u001b[0;34m\u001b[0m\u001b[0m\n\u001b[0;32m--> 704\u001b[0;31m             \u001b[0mpassword\u001b[0m\u001b[0;34m=\u001b[0m\u001b[0;32mFalse\u001b[0m\u001b[0;34m,\u001b[0m\u001b[0;34m\u001b[0m\u001b[0;34m\u001b[0m\u001b[0m\n\u001b[0m\u001b[1;32m    705\u001b[0m         )\n\u001b[1;32m    706\u001b[0m \u001b[0;34m\u001b[0m\u001b[0m\n",
            "\u001b[0;32m/usr/local/lib/python3.7/dist-packages/ipykernel/kernelbase.py\u001b[0m in \u001b[0;36m_input_request\u001b[0;34m(self, prompt, ident, parent, password)\u001b[0m\n\u001b[1;32m    732\u001b[0m             \u001b[0;32mexcept\u001b[0m \u001b[0mKeyboardInterrupt\u001b[0m\u001b[0;34m:\u001b[0m\u001b[0;34m\u001b[0m\u001b[0;34m\u001b[0m\u001b[0m\n\u001b[1;32m    733\u001b[0m                 \u001b[0;31m# re-raise KeyboardInterrupt, to truncate traceback\u001b[0m\u001b[0;34m\u001b[0m\u001b[0;34m\u001b[0m\u001b[0;34m\u001b[0m\u001b[0m\n\u001b[0;32m--> 734\u001b[0;31m                 \u001b[0;32mraise\u001b[0m \u001b[0mKeyboardInterrupt\u001b[0m\u001b[0;34m\u001b[0m\u001b[0;34m\u001b[0m\u001b[0m\n\u001b[0m\u001b[1;32m    735\u001b[0m             \u001b[0;32melse\u001b[0m\u001b[0;34m:\u001b[0m\u001b[0;34m\u001b[0m\u001b[0;34m\u001b[0m\u001b[0m\n\u001b[1;32m    736\u001b[0m                 \u001b[0;32mbreak\u001b[0m\u001b[0;34m\u001b[0m\u001b[0;34m\u001b[0m\u001b[0m\n",
            "\u001b[0;31mKeyboardInterrupt\u001b[0m: "
          ]
        }
      ]
    }
  ]
}