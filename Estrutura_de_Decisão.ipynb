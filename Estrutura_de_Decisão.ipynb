{
  "nbformat": 4,
  "nbformat_minor": 0,
  "metadata": {
    "colab": {
      "name": "Estrutura de Decisão.ipynb",
      "provenance": [],
      "collapsed_sections": [],
      "authorship_tag": "ABX9TyNYzfiBjHuQOVLsgpWOe0Gx",
      "include_colab_link": true
    },
    "kernelspec": {
      "name": "python3",
      "display_name": "Python 3"
    },
    "language_info": {
      "name": "python"
    }
  },
  "cells": [
    {
      "cell_type": "markdown",
      "metadata": {
        "id": "view-in-github",
        "colab_type": "text"
      },
      "source": [
        "<a href=\"https://colab.research.google.com/github/caiovm/evoluindo_em_Python/blob/main/Estrutura_de_Decis%C3%A3o.ipynb\" target=\"_parent\"><img src=\"https://colab.research.google.com/assets/colab-badge.svg\" alt=\"Open In Colab\"/></a>"
      ]
    },
    {
      "cell_type": "markdown",
      "source": [
        "**Aula 01 - Curso Hashtag**<br>\n",
        "## 1. Cálculo de Bônus\n",
        "\n",
        "- Crie um programa que calcule e dê um print no bônus que os funcionários devem receber segundo a regra:\n",
        "\n",
        "A meta é 1000 vendas.<br> \n",
        "Se o valor de vendas for maior ou igual a meta, o valor do bônus do funcionário é 10% do valor de vendas.<br>\n",
        "Caso contrário o valor de bônus do funcionário é 0.<br>\n",
        "Print o bônus dos 3 funcionários"
      ],
      "metadata": {
        "id": "ZF3cbi0IMkQV"
      }
    },
    {
      "cell_type": "code",
      "source": [
        "vendas_funcionario1 = 1000\n",
        "vendas_funcionario2 = 770\n",
        "vendas_funcionario3 = 2700\n",
        "meta1 = 1000\n",
        "meta2 = 2000\n",
        "if vendas_funcionario1 >= meta2:\n",
        "    bonusmeta1 = vendas_funcionario1 * 0.15\n",
        "    print('O funcionário 1 ganhou R${:,.2f} de bônus'.format(bonusmeta1))\n",
        "elif vendas_funcionario1 >= meta1 and vendas_funcionario1 < meta2:\n",
        "  bonusmeta2 = vendas_funcionario1 * 0.1\n",
        "  print('O funcionário 1 ganhou R${:,.2f} de bônus'.format(bonusmeta2))\n",
        "else:\n",
        "    print('O funcionário 1 ganhou 0 de bônus')\n",
        "if vendas_funcionario2 >= meta2:\n",
        "    bonusmeta1 = vendas_funcionario2 * 0.15\n",
        "    print('O funcionário 2 ganhou R${:,.2f} de bônus'.format(bonusmeta1))\n",
        "elif vendas_funcionario2 >= meta1 and vendas_funcionario2 < meta2:\n",
        "  bonusmeta2 = vendas_funcionario2 * 0.1\n",
        "  print('O funcionário 2 ganhou R${:,.2f} de bônus'.format(bonusmeta2))\n",
        "else:\n",
        "    print('O funcionário 2 ganhou 0 de bônus')\n",
        "if vendas_funcionario3 >= meta2:\n",
        "    bonusmeta1 = vendas_funcionario3 * 0.15\n",
        "    print('O funcionário 3 ganhou R${:,.2f} de bônus'.format(bonusmeta1))\n",
        "elif vendas_funcionario3 >= meta1 and vendas_funcionario3 < meta2:\n",
        "  bonusmeta2 = vendas_funcionario3 * 0.1\n",
        "  print('O funcionário 3 ganhou R${:,.2f} de bônus'.format(bonusmeta2))\n",
        "else:\n",
        "    print('O funcionário 3 ganhou 0 de bônus')"
      ],
      "metadata": {
        "id": "YqPG3lh-Jsgv",
        "colab": {
          "base_uri": "https://localhost:8080/"
        },
        "outputId": "a685168e-5f22-45b0-bb3e-5390db36e5f9"
      },
      "execution_count": null,
      "outputs": [
        {
          "output_type": "stream",
          "name": "stdout",
          "text": [
            "O funcionário 1 ganhou R$100.00 de bônus\n",
            "O funcionário 2 ganhou 0 de bônus\n",
            "O funcionário 3 ganhou R$405.00 de bônus\n"
          ]
        }
      ]
    },
    {
      "cell_type": "markdown",
      "source": [
        "## 1. Criando um mini sistema de controle de estoque\n",
        "\n",
        "- Crie um sistema para ser usado pelo time de controle de estoque de um centro de distribuição.\n",
        "- Imagine que ao fim de todo dia, o time conta quantas unidades de produto existem no estoque. Se tivermos um estoque abaixo do estoque permitido para aquela categoria do produto, o time deve ser avisado (print) para fazer um novo pedido daquele produto.\n",
        "- Cada categoria de produto tem um estoque mínimo diferente, segundo a regra abaixo:\n",
        "\n",
        "- alimentos -> Estoque mínimo: 50\n",
        "- bebidas -> Estoque mínimo: 75\n",
        "- limpeza -> Estoque mínimo: 30\n",
        "\n",
        "Para isso vamos criar um programa que pede 3 inputs do usuário: nome do produto, categoria e quantidade atual em estoque.\n",
        "\n",
        "Se o produto tiver abaixo do estoque mínimo da categoria dele, o programa deve printar a mensagem \"Solicitar {produto} à equipe de compras, temos apenas {unidades} em estoque\"\n",
        "\n",
        "Exemplo: Se o usuário preenche os inputs com: bebidas, dolly, 90, o programa não deve exibir nenhuma mensagem.<br>\n",
        "Agora, se o usuário preenche os inputs com: bebidas, guaraná, 60, o programa deve exibir a mensagem \"Solicitar guaraná à equipe de compras, temos apenas 60 unidades em estoque.\n",
        "\n",
        "Obs: lembre de usar o int() para transformar o número inserido pelo usuário no input de string para int.<br>\n",
        "Obs2: Caso o usuário não preencha alguma das 3 informações, o programa deve exibir uma mensagem para avisá-lo de preencher corretamente."
      ],
      "metadata": {
        "id": "5-oTD0BKSn6R"
      }
    },
    {
      "cell_type": "code",
      "source": [
        "produto = input('Qual o produto: ')\n",
        "categoria = input('Qual a categoria do produto: ')\n",
        "qtde = int(input('Qual a quantidade atual do produto: '))\n",
        "if produto and categoria and qtde:\n",
        "  if categoria == 'alimento':\n",
        "    if qtde < 50:\n",
        "      print ('Solicitar {} a equipe de compras. Temos apenas {} unidades em estoque'.format(produto, qtde))\n",
        "  elif categoria == 'bebida':\n",
        "    if qtde < 75:\n",
        "      print ('Solicitar {} a equipe de compras. Temos apenas {} unidades em estoque'.format(produto, qtde))\n",
        "  elif categoria == 'limpeza':\n",
        "    if qtde < 30:\n",
        "      print ('Solicitar {} a equipe de compras. Temos apenas {} unidades em estoque'.format(produto, qtde))\n",
        "else:\n",
        "  print ('Preencha todas as informações!')"
      ],
      "metadata": {
        "id": "K-BLlj_ISplC"
      },
      "execution_count": null,
      "outputs": []
    },
    {
      "cell_type": "markdown",
      "source": [
        "#Estrutura de Decisão - Wikipython\n",
        "\n",
        "15) Faça um Programa que peça os 3 lados de um triângulo. O programa deverá informar se os valores podem ser um triângulo. Indique, caso os lados formem um triângulo, se o mesmo é: equilátero, isósceles ou escaleno.<br>\n",
        "Dicas:<br>\n",
        "* Três lados formam um triângulo quando a soma de quaisquer dois lados for maior que o terceiro;\n",
        "* Triângulo Equilátero: três lados iguais;\n",
        "* Triângulo Isósceles: quaisquer dois lados iguais;\n",
        "* Triângulo Escaleno: três lados diferentes;"
      ],
      "metadata": {
        "id": "FPDaOOqAso5v"
      }
    },
    {
      "cell_type": "code",
      "source": [
        "print ('########### VAMOS DETERMINAR QUE TIPO DE TRIÂNGULO VOCÊ QUER QUE EU DESENHE ###########')\n",
        "lado1 = float(input('Informe o tamanho do lado 1: '))\n",
        "lado2 = float(input('Informe o tamanho do lado 2: '))\n",
        "lado3 = float(input('Informe o tamanho do lado 3: '))\n",
        "if lado1 and lado2 and lado3:\n",
        "  if (lado1 + lado2) > lado3 and (lado1 + lado3) > lado2 and (lado2 + lado3) > lado1:\n",
        "    if (lado1 == lado2) and (lado1 == lado3):\n",
        "      print('Com as informações passadas, teremos o desenho de um triângulo EQUILÁTERO!')\n",
        "    elif (lado1 == lado2 and lado1 != lado3) or (lado2 == lado3 and lado2 != lado1):\n",
        "      print('Com as informações passadas, teremos o desenho de um triângulo ISÓCELES!') \n",
        "    elif (lado1 != lado2) and (lado1 != lado3) and (lado2 != lado3):\n",
        "      print ('Com as informações passadas, teremos o desenho de um triângulo ESCALENO!')   \n",
        "  else: \n",
        "    print ('Com as informações passadas, não podemos gerar o desenho de um triângulo!')\n",
        "else:\n",
        "  print ('Com as informações passadas, não podemos gerar o desenho de um triângulo!')"
      ],
      "metadata": {
        "id": "tREaKj9As0Ct"
      },
      "execution_count": null,
      "outputs": []
    },
    {
      "cell_type": "markdown",
      "source": [
        "#Estutura de Decisão WikiPython\n",
        "19) Faça um Programa que leia um número inteiro menor que 1000 e imprima a quantidade de centenas, dezenas e unidades do mesmo. Observando os termos no plural a colocação do \"e\", da vírgula entre outros.<br>\n",
        "Exemplo:<br>\n",
        "326 = 3 centenas, 2 dezenas e 6 unidades<br>\n",
        "12 = 1 dezena e 2 unidades<br>\n",
        "Testar com: 326, 300, 100, 320, 310,305, 301, 101, 311, 111, 25, 20, 10, 21, 11, 1, 7 e 16"
      ],
      "metadata": {
        "id": "ko4wWx1a0dPN"
      }
    },
    {
      "cell_type": "code",
      "source": [
        "aleatorio = int(input('Digite um número inteiro positivo menor que 1000: '))\n",
        "while (aleatorio >= 1000) or (aleatorio <= 0):\n",
        "  aleatorio = int(input('O número que você digitou não é válido. Digite um número inteiro positivo menor que 1000: '))\n",
        "else:\n",
        "  aleatorio = str(aleatorio)\n",
        "  if len(aleatorio) == 3:\n",
        "    centena = aleatorio[0]\n",
        "    dezena = aleatorio [1]\n",
        "    unidade = aleatorio [2]\n",
        "    print ('Para o valor digitado temos {} centena(s), {} dezena(s) e {} unidade(s).'.format(centena, dezena, unidade))\n",
        "  elif len(aleatorio) == 2:\n",
        "    dezena = aleatorio [0]\n",
        "    unidade = aleatorio [1]\n",
        "    print ('Para o valor digitado temos {} dezenas e {} unidades.'.format(dezena, unidade))\n",
        "  elif len(aleatorio) == 1:\n",
        "    unidade = aleatorio [0]\n",
        "    print ('Para o valor digitado temos {} unidade(s).'.format(unidade))  "
      ],
      "metadata": {
        "id": "ZY7dIqZF05ds"
      },
      "execution_count": null,
      "outputs": []
    },
    {
      "cell_type": "markdown",
      "source": [
        "#Estutura de Decisão WikiPython\n",
        "25) Faça um programa que faça 5 perguntas para uma pessoa sobre um crime. As perguntas são:<br>\n",
        "\"Telefonou para a vítima?\"<br>\n",
        "\"Esteve no local do crime?\"<br>\n",
        "\"Mora perto da vítima?\"<br>\n",
        "\"Devia para a vítima?\"<br>\n",
        "\"Já trabalhou com a vítima?\"<br>\n",
        "O programa deve no final emitir uma classificação sobre a participação da pessoa no crime. Se a pessoa responder positivamente a 2 questões ela deve ser classificada como \"Suspeita\", entre 3 e 4 como \"Cúmplice\" e 5 como \"Assassino\". Caso contrário, ele será classificado como \"Inocente\"."
      ],
      "metadata": {
        "id": "2dk0rDcoQt6a"
      }
    },
    {
      "cell_type": "code",
      "source": [
        "print ('Olá. Estamos avaliando um crime ocorrido e preciso que responda 5 perguntas.')\n",
        "print ('Peço que se concentre e responda apenas sim ou não.')\n",
        "print ()\n",
        "contador = 0\n",
        "p1 = input('Você telefonou para a vítima? Pressione \"S\" para sim ou \"N\" para não. ')\n",
        "p1 = p1.upper()\n",
        "if p1 == \"S\":\n",
        "  contador += 1\n",
        "else:\n",
        "  contador += 0\n",
        "p2 = input('Você esteve no local do crime? Pressione \"S\" para sim ou \"N\" para não. ')\n",
        "p2 = p2.upper()\n",
        "if p2 == \"S\":\n",
        "  contador += 1\n",
        "else:\n",
        "  contador += 0\n",
        "p3 = input('Você mora perto da vítima? Pressione \"S\" para sim ou \"N\" para não. ')\n",
        "p3 = p3.upper()\n",
        "if p3 == \"S\":\n",
        "  contador += 1\n",
        "else:\n",
        "  contador += 0\n",
        "p4 = input('Você devia para a vítima? Pressione \"S\" para sim ou \"N\" para não. ')\n",
        "p4 = p4.upper()\n",
        "if p4 == \"S\":\n",
        "  contador += 1\n",
        "else:\n",
        "  contador += 0\n",
        "p5 = input('Você já trabalhou com a vítima? Pressione \"S\" para sim ou \"N\" para não. ')\n",
        "p5 = p5.upper()\n",
        "if p5 == \"S\":\n",
        "  contador += 1\n",
        "else:\n",
        "  contador += 0\n",
        "if contador == 5:\n",
        "  print ('/+'*50)\n",
        "  print ('Você está preso. Você é o assassino')\n",
        "  print ('/+'*50)\n",
        "elif contador == 3 or contador == 4:\n",
        "  print ('/+'*50)\n",
        "  print ('Você será levado para outro interrogatório, pois é considerado cúmplice')\n",
        "  print ('/+'*50)\n",
        "elif contador == 1 or contador == 2:\n",
        "  print ('/+'*50)\n",
        "  print ('Não saia da cidade. Você é nosso principal suspeito')\n",
        "  print ('/+'*50)\n",
        "else:\n",
        "  print ('/+'*50)\n",
        "  print ('Agradecemos sua colaboração. Nesse momento consideramos você inocente')\n",
        "  print ('/+'*50)"
      ],
      "metadata": {
        "colab": {
          "base_uri": "https://localhost:8080/"
        },
        "id": "I-veT1htQ21C",
        "outputId": "73b65c9f-decd-4133-a37f-9b2b723235a3"
      },
      "execution_count": null,
      "outputs": [
        {
          "output_type": "stream",
          "name": "stdout",
          "text": [
            "Olá. Estamos avaliando um crime ocorrido e preciso que responda 5 perguntas.\n",
            "Peço que se concentre e responda apenas sim ou não.\n",
            "\n",
            "Você telefonou para a vítima? Pressione \"S\" para sim ou \"N\" para não. s\n",
            "Você esteve no local do crime? Pressione \"S\" para sim ou \"N\" para não. s\n",
            "Você mora perto da vítima? Pressione \"S\" para sim ou \"N\" para não. s\n",
            "Você devia para a vítima? Pressione \"S\" para sim ou \"N\" para não. s\n",
            "Você já trabalhou com a vítima? Pressione \"S\" para sim ou \"N\" para não. s\n",
            "/+/+/+/+/+/+/+/+/+/+/+/+/+/+/+/+/+/+/+/+/+/+/+/+/+/+/+/+/+/+/+/+/+/+/+/+/+/+/+/+/+/+/+/+/+/+/+/+/+/+\n",
            "Você está preso. Você é o assassino\n",
            "/+/+/+/+/+/+/+/+/+/+/+/+/+/+/+/+/+/+/+/+/+/+/+/+/+/+/+/+/+/+/+/+/+/+/+/+/+/+/+/+/+/+/+/+/+/+/+/+/+/+\n"
          ]
        }
      ]
    },
    {
      "cell_type": "markdown",
      "source": [
        "##Estutura de Decisão WikiPython\n",
        "26) Um posto está vendendo combustíveis com a seguinte tabela de descontos:<br>\n",
        "\n",
        "###Álcool:\n",
        "* até 20 litros, desconto de 3% por litro<br>\n",
        "* acima de 20 litros, desconto de 5% por litro<br>\n",
        "\n",
        "###Gasolina:\n",
        "* até 20 litros, desconto de 4% por litro\n",
        "* acima de 20 litros, desconto de 6% por litro\n",
        "\n",
        "Escreva um algoritmo que leia o número de litros vendidos, o tipo de combustível (codificado da seguinte forma: A-álcool, G-gasolina), calcule e imprima o valor a ser pago pelo cliente sabendo-se que:<br>\n",
        "\n",
        "* o preço do litro da gasolina é R$ 2,50<br>\n",
        "\n",
        "* o preço do litro do álcool é R$ 1,90."
      ],
      "metadata": {
        "id": "KQQ4d_IQ38ZW"
      }
    },
    {
      "cell_type": "code",
      "source": [
        "litros = float(input('Informe a quantidade de litros vendidos: '))\n",
        "tipo = str(input('Informe o tipo de combustível abastecido: '))\n",
        "tipo = tipo[0].upper()\n",
        "if (tipo == 'G') and (litros <= 20):\n",
        "  total = (litros * 2.5)* 0.96\n",
        "  print ('O valor a ser pago por esse abastecimento é de R${}, considerando o desconto de 4% por litro.'.format(total))\n",
        "elif (tipo == 'G') and (litros > 20):\n",
        "  total = (litros * 2.5)* 0.94\n",
        "  print ('O valor a ser pago por esse abastecimento é de R${}, considerando o desconto de 6% por litro.'.format(total))\n",
        "elif (tipo == 'A') and (litros <= 20):\n",
        "  total = (litros * 1.9)* 0.97\n",
        "  print ('O valor a ser pago por esse abastecimento é de R${}, considerando o desconto de 3% por litro.'.format(total))\n",
        "elif (tipo == 'A') and (litros > 20):\n",
        "  total = (litros * 1.9)* 0.95\n",
        "  print ('O valor a ser pago por esse abastecimento é de R${}, considerando o desconto de 5% por litro.'.format(total)) \n",
        "elif (tipo != 'G') or (tipo != 'A'):\n",
        " print ('Não trabalhamos com o tipo de combistível indicado. Procure o nosso frentista para mais informações')"
      ],
      "metadata": {
        "colab": {
          "base_uri": "https://localhost:8080/"
        },
        "id": "E9jp7KDN4zZc",
        "outputId": "9192addb-5894-41c4-cff9-c5b42d12404b"
      },
      "execution_count": null,
      "outputs": [
        {
          "output_type": "stream",
          "name": "stdout",
          "text": [
            "Informe a quantidade de litros vendidos: 20\n",
            "Informe o tipo de combustível abastecido: Diesel\n",
            "Não trabalhamos com o tipo de combistível indicado. Procure o nosso frentista para mais informações\n"
          ]
        }
      ]
    },
    {
      "cell_type": "markdown",
      "source": [
        "# Exercícios\n",
        "\n",
        "## 1. Cadastro de CPF\n",
        "\n",
        "Crie um programa para cadastro de CPF de clientes que recebe o CPF em um input box apenas com números.\n",
        "\n",
        "Ex: 'Insira seu CPF (digite apenas números)'\n",
        "\n",
        "Caso o usuário digite algo diferente de números ou digite menos de 11 caracteres (tamanho do CPF brasileiro), o programa deve exibir uma mensagem de \"Digite seu CPF corretamente e digite apenas números\""
      ],
      "metadata": {
        "id": "Zc9QU7O6Oh0J"
      }
    },
    {
      "cell_type": "code",
      "source": [
        "cpf = input('Digite o seu CPF (digite apenas números): ')\n",
        "while len(cpf) != 11:\n",
        "  cpf = input('Você digitou um CPF inválido. Digite apenas números: ')\n",
        "else:\n",
        "  print (cpf)"
      ],
      "metadata": {
        "id": "3M94e9RpOjV8"
      },
      "execution_count": null,
      "outputs": []
    },
    {
      "cell_type": "markdown",
      "source": [
        "## 2. Melhorando nosso Cadastro de CPF\n",
        "\n",
        "Agora, além das validações anteriores, vamos criar um input que permita que o usuário insira pontos, traços e inclusive espaços vazios.\n",
        "\n",
        "Nosso programa deve \"tratar\" o que o usuário inserir para padronizar o CPF dele em apenas números.\n",
        "\n",
        "A verificação de tamanho do CPF com 11 caracteres continua válida, mas ela só deve ser feita depois de retirar todos os pontos, traços e espaços do CPF que o cliente inserir e, uma vez retirados pontos, traços e espaços, devem sobrar apenas números no CPF. Qualquer outro caractere deve ser considerado inválido.\n",
        "\n",
        "No final, nosso programa deve exibir uma mensagem para o usuário, caso ele tenha inserido o CPF inválido ou então apenas deve printar o CPF correto já só com número."
      ],
      "metadata": {
        "id": "lUzOHn1_Piv7"
      }
    },
    {
      "cell_type": "code",
      "source": [
        "cpf = input('Digite o seu CPF (digite apenas números): ')\n",
        "cpf = cpf.strip()\n",
        "cpf = cpf.replace('.','')\n",
        "cpf = cpf.replace('-','')\n",
        "cpf = cpf.replace(' ','')\n",
        "while len(cpf) != 11:\n",
        "  cpf = input('Você digitou um CPF inválido. Digite apenas números: ')\n",
        "else:\n",
        "  print (cpf)"
      ],
      "metadata": {
        "id": "EXLkhRNCPkii"
      },
      "execution_count": null,
      "outputs": []
    }
  ]
}