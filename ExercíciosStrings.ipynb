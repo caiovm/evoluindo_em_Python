{
  "nbformat": 4,
  "nbformat_minor": 0,
  "metadata": {
    "colab": {
      "name": "ExercíciosStrings.ipynb",
      "provenance": [],
      "collapsed_sections": [],
      "authorship_tag": "ABX9TyMNNfkbg5J2Bps95gTF3mUr",
      "include_colab_link": true
    },
    "kernelspec": {
      "name": "python3",
      "display_name": "Python 3"
    },
    "language_info": {
      "name": "python"
    }
  },
  "cells": [
    {
      "cell_type": "markdown",
      "metadata": {
        "id": "view-in-github",
        "colab_type": "text"
      },
      "source": [
        "<a href=\"https://colab.research.google.com/github/caiovm/evoluindo_em_Python/blob/main/Exerc%C3%ADciosStrings.ipynb\" target=\"_parent\"><img src=\"https://colab.research.google.com/assets/colab-badge.svg\" alt=\"Open In Colab\"/></a>"
      ]
    },
    {
      "cell_type": "markdown",
      "source": [
        "# WikiPython\n",
        "\n",
        "### Segue abaixo resolução de exercícios de string com Python. Estou praticando conhecimentos adquiridos de forma independente, buscando me desenvolver minhas habilidades de lógica e programação.\n",
        "######<br>\n",
        "###### Hoje é 23/04/2022 e o site o qual podem consultar os enunciados é o que segue: https://wiki.python.org.br/ExerciciosComStrings\n"
      ],
      "metadata": {
        "id": "pga9nUuxQ9nX"
      }
    },
    {
      "cell_type": "markdown",
      "source": [
        "####Exercício 01)<br>\n",
        "Tamanho de strings. Faça um programa que leia 2 strings e informe o conteúdo delas seguido do seu comprimento. Informe também se as duas strings possuem o mesmo comprimento e são iguais ou diferentes no conteúdo."
      ],
      "metadata": {
        "id": "emYHaaImTGUX"
      }
    },
    {
      "cell_type": "code",
      "source": [
        "frase1 = input(str('Digite uma frase qualquer, a sua escolha: '))\n",
        "frase2 = input(str('Digite uma frase qualquer, a sua escolha: '))\n",
        "print ('A frase 01 é: {}'.format(frase1))\n",
        "print ('A frase 02 é: {}'.format(frase2))\n",
        "print ('O tamanho de {} é: {} caracteres'.format(frase1, len(frase1)))\n",
        "print ('O tamanho de {} é: {} caracteres'.format(frase2, len(frase2)))\n",
        "if len(frase1.casefold()) == len(frase2.casefold()):\n",
        "  print ('As duas frases possuem tamanhos iguais!')\n",
        "else:\n",
        "  print('As duas frases possuem tamanhos diferentes!')\n",
        "if frase1.casefold() == frase2.casefold():\n",
        "  print ('As duas frases possuem o mesmo conteúdo!')\n",
        "else:\n",
        "  print('As duas frases possuem conteúdos diferentes!')"
      ],
      "metadata": {
        "id": "myo7W9lVTQc2"
      },
      "execution_count": null,
      "outputs": []
    },
    {
      "cell_type": "markdown",
      "source": [
        "####Exercício 02)<br>\n",
        "Faça um programa que permita ao usuário digitar o seu nome e em seguida mostre o nome do usuário de trás para frente utilizando somente letras maiúsculas. Dica: lembre−se que ao informar o nome o usuário pode digitar letras maiúsculas ou minúsculas"
      ],
      "metadata": {
        "id": "VcS8ZolWTf7n"
      }
    },
    {
      "cell_type": "code",
      "execution_count": null,
      "metadata": {
        "id": "m7JwC-wBTNoa"
      },
      "outputs": [],
      "source": [
        "nome = input('Informe o seu nome: ')\n",
        "print ('O seu nome escrito ao contrário é {}.'.format(nome[::-1]))"
      ]
    },
    {
      "cell_type": "markdown",
      "source": [
        "####Exercício 03)<br>\n",
        "Faça um programa que solicite o nome do usuário e imprima-o na vertical"
      ],
      "metadata": {
        "id": "PsI81ZHjUiB8"
      }
    },
    {
      "cell_type": "code",
      "source": [
        "nome = input('Informe o seu nome: ')\n",
        "for i in range (len(nome)):\n",
        "  print (nome[i])"
      ],
      "metadata": {
        "id": "PKjjx3bpUl6c"
      },
      "execution_count": null,
      "outputs": []
    },
    {
      "cell_type": "markdown",
      "source": [
        "####Exercício 04)<br>\n",
        "Modifique o programa anterior de forma a mostrar o nome em formato de escada."
      ],
      "metadata": {
        "id": "lWDoVdGjU6EK"
      }
    },
    {
      "cell_type": "code",
      "source": [
        "nome = input('Informe o seu nome: ')\n",
        "for i in range (len(nome)):\n",
        "  print (nome[:i+1])"
      ],
      "metadata": {
        "id": "UBRBY1c-U-C1"
      },
      "execution_count": null,
      "outputs": []
    },
    {
      "cell_type": "markdown",
      "source": [
        "####Exercício 05)<br>\n",
        "Altere o programa anterior de modo que a escada seja invertida."
      ],
      "metadata": {
        "id": "QzzAo-VZVqBO"
      }
    },
    {
      "cell_type": "code",
      "source": [
        "nome = input('Informe o seu nome: ')\n",
        "for i in range (len(nome), -1, -1):\n",
        "  print (nome[:i])"
      ],
      "metadata": {
        "id": "KAgPu6c4VtUf"
      },
      "execution_count": null,
      "outputs": []
    },
    {
      "cell_type": "markdown",
      "source": [
        "####Exercício 06)<br>\n",
        "Faça um programa que solicite a data de nascimento (dd/mm/aaaa) do usuário e imprima a data com o nome do mês por extenso."
      ],
      "metadata": {
        "id": "di1NtOQK_-8u"
      }
    },
    {
      "cell_type": "code",
      "source": [
        "dia = input('Informe o dia (dd) do seu nascimento: ')\n",
        "mes = input('Informe o mês (mm) do seu nascimento: ')\n",
        "ano = input('Informe o ano (aaaa) do seu nascimento: ')\n",
        "if dia and mes and ano:\n",
        "  meses = {\n",
        "    '01' : 'janeiro',\n",
        "    '02' : 'fevereiro',\n",
        "    '03' : 'março',\n",
        "    '04' : 'abril',\n",
        "    '05' : 'maio',\n",
        "    '06' : 'junho',\n",
        "    '07' : 'julho',\n",
        "    '08' : 'agosto',\n",
        "    '09' : 'setembro',\n",
        "    '10' : 'outubro',\n",
        "    '11' : 'novembro',\n",
        "    '12' : 'dezembro'\n",
        "    }\n",
        "  mes_nascimento = meses[mes]\n",
        "  print ('Você nasceu em {} de {} de {}'.format(dia, mes_nascimento, ano))\n",
        "else:\n",
        "  print('Algum(ns) dos valores digitados não está(ão) correto(s).')"
      ],
      "metadata": {
        "id": "x5hpbqNv_9vF"
      },
      "execution_count": null,
      "outputs": []
    },
    {
      "cell_type": "markdown",
      "source": [
        "####Exercício 07)<br>\n",
        "Dado uma string com uma frase informada pelo usuário (incluindo espaços em branco), conte:\n",
        "\n",
        "* quantos espaços em branco existem na frase.\n",
        "* quantas vezes aparecem as vogais a, e, i, o, u"
      ],
      "metadata": {
        "id": "PofuGyYUSGx1"
      }
    },
    {
      "cell_type": "code",
      "source": [
        "frase = str(input('Digite uma frase para que eu possa analisar a quantidade de vogais e espaços em branco: '))\n",
        "espaco = frase.count(' ')\n",
        "a = frase.count('a') + frase.count('à') + frase.count('á') + frase.count('ã')\n",
        "e = frase.count('e') + frase.count('é') + frase.count('ê')\n",
        "i = frase.count('i') + frase.count('í')\n",
        "o = frase.count('o') + frase.count ('õ') + frase.count ('ó')\n",
        "u = frase.count('u') + frase.count('ú')\n",
        "print ('Você digitou a seguinte frase: {}'.format(frase))\n",
        "print ('Sua frase possui {} espaços em brano, {} vogais \"a\", {} vogais \"e\", {} vogais \"i\", {} vogais \"o\" e {} vogais \"u\".'.format(espaco, a, e, i, o, u))"
      ],
      "metadata": {
        "id": "WvlcmlDKT28H"
      },
      "execution_count": null,
      "outputs": []
    },
    {
      "cell_type": "markdown",
      "source": [
        "####Exercício 08)<br>\n",
        "Um palíndromo é uma seqüência de caracteres cuja leitura é idêntica se feita da direita para esquerda ou vice−versa. Por exemplo: OSSO e OVO são palíndromos. Em textos mais complexos os espaços e pontuação são ignorados. A frase SUBI NO ONIBUS é o exemplo de uma frase palíndroma onde os espaços foram ignorados. Faça um programa que leia uma seqüência de caracteres, mostre−a e diga se é um palíndromo ou não."
      ],
      "metadata": {
        "id": "0y_bdm6YoSqp"
      }
    },
    {
      "cell_type": "code",
      "source": [
        "frase = str(input('Digite uma frase para verificar se é ou não palíndromo: '))\n",
        "frase = frase.replace(' ','')\n",
        "frase = frase.replace(',','')\n",
        "frase = frase.replace('.','')\n",
        "frase = frase.casefold()\n",
        "frase2 = frase[::-1]\n",
        "if frase == frase2:\n",
        "  print ('As palavras/frases são palindromo!')\n",
        "else:\n",
        "  print('As plavras/frases não são palíndromos!')"
      ],
      "metadata": {
        "id": "bCm9DhUIoXnd"
      },
      "execution_count": null,
      "outputs": []
    },
    {
      "cell_type": "markdown",
      "source": [
        "####Exercício 10)<br>\n",
        "Escreva um programa que solicite ao usuário a digitação de um número até 99 e imprima-o na tela por extenso."
      ],
      "metadata": {
        "id": "UHSDxMTYwkc8"
      }
    },
    {
      "cell_type": "code",
      "source": [
        "menor_20 = ['um', 'dois', 'três', 'quatro', 'cinco', 'seis', 'sete', 'oito', 'nove', 'dez', 'onze', 'doze', 'treze', 'quatorze', 'quinze', 'dezesseis', 'dezessete', 'dezoito', 'dezenove']\n",
        "dezenas = ['vinte', 'trinta', 'quarenta', 'cinquenta', 'sessenta', 'setenta', 'oitenta', 'noventa']\n",
        "num = str(input('Informe um valor inteiro entre 1 e 99: '))\n",
        "num = int(num)\n",
        "if (num > 0) and (num < 100):\n",
        "  if num < 20:\n",
        "    print (menor_20 [num-1])\n",
        "  else:\n",
        "    num = str(num)\n",
        "    first = int(num[0])\n",
        "    second = int(num[1])\n",
        "    if second == 0:\n",
        "      first = int(num[1])\n",
        "      print ('{}'.format(dezenas[first-2]))\n",
        "    else:\n",
        "      print ('{} e {}'.format(dezenas[first-2], menor_20[second-1]))\n",
        "else:\n",
        "  print ('Você digitou um valor inválido. Tente digitar um valor inteiro entre 1 e 99: ')"
      ],
      "metadata": {
        "id": "QwCriHTlwryI"
      },
      "execution_count": null,
      "outputs": []
    },
    {
      "cell_type": "markdown",
      "source": [
        "####Exercício 12)<br>\n",
        "Valida e corrige número de telefone. Faça um programa que leia um número de telefone, e corrija o número no caso deste conter somente 7 dígitos, acrescentando o '3' na frente. O usuário pode informar o número com ou sem o traço separador."
      ],
      "metadata": {
        "id": "joaxoGyWXL-o"
      }
    },
    {
      "cell_type": "code",
      "source": [
        "tel = input(str('Informe o número de telefone válido: '))\n",
        "tel = tel.replace(' ','')\n",
        "tel = tel.replace(',','')\n",
        "tel = tel.replace('.','')\n",
        "tel = tel.replace('-','')\n",
        "if len(tel) == 7:\n",
        "  print ('O número do telefone corrigido é: 3{} pois agora possui 8 números'.format(tel))\n",
        "else:\n",
        "  print('O número de telefone digitado não é um número de telefone válido!')"
      ],
      "metadata": {
        "id": "Vfut7naIXS0p"
      },
      "execution_count": null,
      "outputs": []
    }
  ]
}